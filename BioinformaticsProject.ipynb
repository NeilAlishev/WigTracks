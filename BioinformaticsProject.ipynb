{
 "cells": [
  {
   "cell_type": "code",
   "execution_count": 95,
   "metadata": {},
   "outputs": [],
   "source": [
    "import numpy\n",
    "import matplotlib.pyplot as plt\n",
    "import pysam"
   ]
  },
  {
   "cell_type": "code",
   "execution_count": 13,
   "metadata": {},
   "outputs": [],
   "source": [
    "ALIGNMENT_FILE = \"lact.bam\"\n",
    "GENOME_LENGTH = 3079196"
   ]
  },
  {
   "cell_type": "code",
   "execution_count": 22,
   "metadata": {},
   "outputs": [],
   "source": [
    "def write_to_wigfile(wigfile_header, wigfile_values, file_name):\n",
    "    wigfile_content = wigfile_header + \"\\n\"\n",
    "    \n",
    "    for wigfile_value in wigfile_values:\n",
    "        wigfile_content += wigfile_value + \"\\n\"\n",
    "    \n",
    "    with open(file_name, 'w') as the_file:\n",
    "        the_file.write(wigfile_content)"
   ]
  },
  {
   "cell_type": "code",
   "execution_count": 23,
   "metadata": {},
   "outputs": [],
   "source": [
    "# Physical coverage\n",
    "\n",
    "samfile = pysam.AlignmentFile(ALIGNMENT_FILE)\n",
    "\n",
    "genome_change = [0] * GENOME_LENGTH\n",
    "for read in samfile:\n",
    "    # Check for left mate pair and SAM flags: 0x1 and 0x2\n",
    "    if (read.template_length > 0 and read.is_paired and read.is_proper_pair):\n",
    "        genome_change[read.reference_start] += 1\n",
    "        genome_change[read.reference_start + read.template_length] -= 1\n",
    "\n",
    "\n",
    "current_coverage = 0\n",
    "physical_coverage_values = []\n",
    "\n",
    "for position in range(GENOME_LENGTH):\n",
    "    current_coverage += genome_change[position]\n",
    "    physical_coverage_values.append(current_coverage)\n",
    "    \n",
    "write_to_wigfile(wigfile_header=\"fixedStep chrom=genome start=1 step=1 span=1\", \n",
    "                 wigfile_values=list(map(str, physical_coverage_values)),\n",
    "                 file_name=\"physical_coverage.wig\")"
   ]
  },
  {
   "cell_type": "code",
   "execution_count": 92,
   "metadata": {},
   "outputs": [],
   "source": [
    "# Sequence coverage\n",
    "\n",
    "samfile = pysam.AlignmentFile(ALIGNMENT_FILE)\n",
    "\n",
    "genome_change = [0] * GENOME_LENGTH\n",
    "for read in samfile:\n",
    "    # Check for SAM flags: 0x1 and 0x2\n",
    "    if (read.is_paired and read.is_proper_pair):\n",
    "        genome_change[read.reference_start] += 1\n",
    "        genome_change[read.reference_end] -= 1\n",
    "\n",
    "\n",
    "current_coverage = 0\n",
    "sequence_coverage_values = []\n",
    "\n",
    "for position in range(GENOME_LENGTH):\n",
    "    current_coverage += genome_change[position]\n",
    "    sequence_coverage_values.append(current_coverage)\n",
    "    \n",
    "write_to_wigfile(wigfile_header=\"fixedStep chrom=genome start=1 step=1 span=1\", \n",
    "                 wigfile_values=list(map(str, sequence_coverage_values)),\n",
    "                 file_name=\"sequence_coverage.wig\")"
   ]
  },
  {
   "cell_type": "code",
   "execution_count": 93,
   "metadata": {},
   "outputs": [],
   "source": [
    "# Lengths of genomic insert\n",
    "samfile = pysam.AlignmentFile(ALIGNMENT_FILE)\n",
    "\n",
    "insert_lengths = []\n",
    "for read in samfile:\n",
    "    # Check for left mate pair and SAM flags: 0x1 and 0x2\n",
    "    if (read.template_length > 0 and read.is_paired and read.is_proper_pair):\n",
    "        insert_lengths.append(read.template_length)"
   ]
  },
  {
   "cell_type": "code",
   "execution_count": null,
   "metadata": {},
   "outputs": [],
   "source": [
    "# TODO: Mean and standard deviation\n",
    "\n"
   ]
  },
  {
   "cell_type": "code",
   "execution_count": 114,
   "metadata": {},
   "outputs": [
    {
     "data": {
      "image/png": "[encoded data removed]",
      "text/plain": [
       "<Figure size 1440x360 with 1 Axes>"
      ]
     },
     "metadata": {
      "needs_background": "light"
     },
     "output_type": "display_data"
    }
   ],
   "source": [
    "plt.figure(figsize=(20,5))\n",
    "plt.plot(insert_lengths, \"bo\")\n",
    "\n",
    "# TODO: y and x axis names\n",
    "\n",
    "plt.show()"
   ]
  },
  {
   "cell_type": "code",
   "execution_count": null,
   "metadata": {},
   "outputs": [],
   "source": [
    "# Average length of the physical inserts track (for each bp)"
   ]
  }
 ],
 "metadata": {
  "kernelspec": {
   "display_name": "Python 3",
   "language": "python",
   "name": "python3"
  },
  "language_info": {
   "codemirror_mode": {
    "name": "ipython",
    "version": 3
   },
   "file_extension": ".py",
   "mimetype": "text/x-python",
   "name": "python",
   "nbconvert_exporter": "python",
   "pygments_lexer": "ipython3",
   "version": "3.7.3"
  }
 },
 "nbformat": 4,
 "nbformat_minor": 2
}
