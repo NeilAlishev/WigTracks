{
 "cells": [
  {
   "cell_type": "code",
   "execution_count": 120,
   "metadata": {},
   "outputs": [],
   "source": [
    "import numpy as np\n",
    "import seaborn as sns\n",
    "import matplotlib.pyplot as plt\n",
    "import pysam"
   ]
  },
  {
   "cell_type": "code",
   "execution_count": 13,
   "metadata": {},
   "outputs": [],
   "source": [
    "ALIGNMENT_FILE = \"lact.bam\"\n",
    "GENOME_LENGTH = 3079196"
   ]
  },
  {
   "cell_type": "code",
   "execution_count": 22,
   "metadata": {},
   "outputs": [],
   "source": [
    "def write_to_wigfile(wigfile_header, wigfile_values, file_name):\n",
    "    wigfile_content = wigfile_header + \"\\n\"\n",
    "    \n",
    "    for wigfile_value in wigfile_values:\n",
    "        wigfile_content += wigfile_value + \"\\n\"\n",
    "    \n",
    "    with open(file_name, 'w') as the_file:\n",
    "        the_file.write(wigfile_content)"
   ]
  },
  {
   "cell_type": "code",
   "execution_count": 163,
   "metadata": {},
   "outputs": [],
   "source": [
    "# Physical coverage\n",
    "\n",
    "def physical_coverage(samfile):\n",
    "    genome_change = [0] * GENOME_LENGTH\n",
    "    for read in samfile:\n",
    "        # Check for left mate pair and SAM flags: 0x1 and 0x2\n",
    "        if (read.template_length > 0 and read.is_paired and read.is_proper_pair):\n",
    "            genome_change[read.reference_start] += 1\n",
    "            genome_change[read.reference_start + read.template_length] -= 1\n",
    "\n",
    "\n",
    "    current_coverage = 0\n",
    "    physical_coverage_values = []\n",
    "\n",
    "    for position in range(GENOME_LENGTH):\n",
    "        current_coverage += genome_change[position]\n",
    "        physical_coverage_values.append(current_coverage)\n",
    "\n",
    "    return physical_coverage_values"
   ]
  },
  {
   "cell_type": "code",
   "execution_count": 141,
   "metadata": {},
   "outputs": [],
   "source": [
    "samfile = pysam.AlignmentFile(ALIGNMENT_FILE)\n",
    "\n",
    "physical_coverage_values = physical_coverage(samfile)\n",
    "\n",
    "write_to_wigfile(wigfile_header=\"fixedStep chrom=genome start=1 step=1 span=1\", \n",
    "                     wigfile_values=list(map(str, physical_coverage_values)),\n",
    "                     file_name=\"physical_coverage.wig\")"
   ]
  },
  {
   "cell_type": "code",
   "execution_count": 164,
   "metadata": {},
   "outputs": [],
   "source": [
    "# Sequence coverage\n",
    "\n",
    "def sequence_coverage(samfile):\n",
    "    genome_change = [0] * GENOME_LENGTH\n",
    "    for read in samfile:\n",
    "        # Check for SAM flags: 0x1 and 0x2\n",
    "        if (read.is_paired and read.is_proper_pair):\n",
    "            genome_change[read.reference_start] += 1\n",
    "            genome_change[read.reference_end] -= 1\n",
    "\n",
    "\n",
    "    current_coverage = 0\n",
    "    sequence_coverage_values = []\n",
    "\n",
    "    for position in range(GENOME_LENGTH):\n",
    "        current_coverage += genome_change[position]\n",
    "        sequence_coverage_values.append(current_coverage)\n",
    "        \n",
    "    return sequence_coverage_values"
   ]
  },
  {
   "cell_type": "code",
   "execution_count": 144,
   "metadata": {},
   "outputs": [],
   "source": [
    "samfile = pysam.AlignmentFile(ALIGNMENT_FILE)\n",
    "\n",
    "sequence_coverage_values = sequence_coverage(samfile)\n",
    "\n",
    "write_to_wigfile(wigfile_header=\"fixedStep chrom=genome start=1 step=1 span=1\", \n",
    "                     wigfile_values=list(map(str, sequence_coverage_values)),\n",
    "                     file_name=\"sequence_coverage.wig\")"
   ]
  },
  {
   "cell_type": "code",
   "execution_count": 93,
   "metadata": {},
   "outputs": [],
   "source": [
    "# Lengths of genomic insert\n",
    "samfile = pysam.AlignmentFile(ALIGNMENT_FILE)\n",
    "\n",
    "insert_lengths = []\n",
    "for read in samfile:\n",
    "    # Check for left mate pair and SAM flags: 0x1 and 0x2\n",
    "    if (read.template_length > 0 and read.is_paired and read.is_proper_pair):\n",
    "        insert_lengths.append(read.template_length)"
   ]
  },
  {
   "cell_type": "code",
   "execution_count": 131,
   "metadata": {},
   "outputs": [
    {
     "name": "stdout",
     "output_type": "stream",
     "text": [
      "Lengths mean is: 2101.273492569815\n",
      "Lengths std is: 205.45154594269033\n"
     ]
    }
   ],
   "source": [
    "lengths_mean = np.mean(insert_lengths)\n",
    "lengths_std = np.std(insert_lengths)\n",
    "\n",
    "print(\"Lengths mean is: \" + str(lengths_mean))\n",
    "print(\"Lengths std is: \" + str(lengths_std))"
   ]
  },
  {
   "cell_type": "code",
   "execution_count": 133,
   "metadata": {},
   "outputs": [
    {
     "data": {
      "text/plain": [
       "<matplotlib.legend.Legend at 0x11ad374a8>"
      ]
     },
     "execution_count": 133,
     "metadata": {},
     "output_type": "execute_result"
    },
    {
     "data": {
      "image/png": "[encoded data removed]",
      "text/plain": [
       "<Figure size 432x288 with 1 Axes>"
      ]
     },
     "metadata": {
      "needs_background": "light"
     },
     "output_type": "display_data"
    }
   ],
   "source": [
    "sns.distplot(insert_lengths)\n",
    "plt.axvline(lengths_mean, color='b', linestyle='-')\n",
    "plt.legend({'Mean': lengths_mean})"
   ]
  },
  {
   "cell_type": "code",
   "execution_count": 135,
   "metadata": {},
   "outputs": [
    {
     "data": {
      "image/png": "[encoded data removed]",
      "text/plain": [
       "<Figure size 1440x360 with 1 Axes>"
      ]
     },
     "metadata": {
      "needs_background": "light"
     },
     "output_type": "display_data"
    }
   ],
   "source": [
    "plt.figure(figsize=(20,5))\n",
    "plt.plot(insert_lengths, \"bo\")\n",
    "\n",
    "plt.xlabel('Insert number')\n",
    "plt.ylabel('Insert length')\n",
    "\n",
    "plt.show()"
   ]
  },
  {
   "cell_type": "code",
   "execution_count": 208,
   "metadata": {},
   "outputs": [],
   "source": [
    "# Average length of the physical inserts track (for each bp)\n",
    "\n",
    "def average_insert_length(samfile):\n",
    "    physical_coverage_values = np.array(physical_coverage(samfile))\n",
    "\n",
    "    # reset iterable to start from the beginning\n",
    "    samfile = pysam.AlignmentFile(ALIGNMENT_FILE)\n",
    "\n",
    "    insert_length_sums = np.zeros(3079196)\n",
    "\n",
    "    for read in samfile:\n",
    "        # Check for left mate pair and SAM flags: 0x1 and 0x2\n",
    "        if (read.template_length > 0 and read.is_paired and read.is_proper_pair):\n",
    "            insert_length_sums[read.reference_start: (read.reference_start + read.template_length)] += read.template_length\n",
    "\n",
    "    average_length_per_base = insert_length_sums / physical_coverage_values\n",
    "    average_length_per_base[np.isnan(average_length_per_base)] = 0\n",
    "\n",
    "    return average_length_per_base"
   ]
  },
  {
   "cell_type": "code",
   "execution_count": 209,
   "metadata": {},
   "outputs": [
    {
     "name": "stderr",
     "output_type": "stream",
     "text": [
      "/Users/neil/anaconda3/lib/python3.7/site-packages/ipykernel_launcher.py:16: RuntimeWarning: divide by zero encountered in true_divide\n",
      "  app.launch_new_instance()\n",
      "/Users/neil/anaconda3/lib/python3.7/site-packages/ipykernel_launcher.py:16: RuntimeWarning: invalid value encountered in true_divide\n",
      "  app.launch_new_instance()\n"
     ]
    }
   ],
   "source": [
    "samfile = pysam.AlignmentFile(ALIGNMENT_FILE)\n",
    "\n",
    "average_insert_length_values = average_insert_length(samfile)\n",
    "\n",
    "write_to_wigfile(wigfile_header=\"fixedStep chrom=genome start=1 step=1 span=1\", \n",
    "                     wigfile_values=list(map(str, average_insert_length_values)),\n",
    "                     file_name=\"average_insert_length.wig\")"
   ]
  },
  {
   "cell_type": "code",
   "execution_count": 226,
   "metadata": {},
   "outputs": [],
   "source": [
    "# Track with the percentage of inserts with a length exceeding n standard deviations (n=2) above or below the mean\n",
    "\n",
    "def unusual_inserts(samfile):\n",
    "    number_of_unusual_inserts = np.zeros(3079196)\n",
    "    range_of_usual_inserts = range(int(lengths_mean - 2 * lengths_std), int(lengths_mean + 2 * lengths_std))\n",
    "    \n",
    "    for read in samfile:\n",
    "        # Check for left mate pair and SAM flags: 0x1 and 0x2\n",
    "        if (read.template_length > 0 and read.is_paired and read.is_proper_pair):\n",
    "            number_of_unusual_inserts[read.reference_start: (read.reference_start + read.template_length)] += read.template_length not in range_of_usual_inserts\n",
    "\n",
    "    # reset iterable to start from the beginning\n",
    "    samfile = pysam.AlignmentFile(ALIGNMENT_FILE)\n",
    "    \n",
    "    physical_coverage_values = np.array(physical_coverage(samfile))\n",
    "            \n",
    "    percentage_of_unusual_inserts = number_of_unusual_inserts / physical_coverage_values\n",
    "    percentage_of_unusual_inserts[np.isnan(percentage_of_unusual_inserts)] = 0\n",
    "    \n",
    "    return percentage_of_unusual_inserts"
   ]
  },
  {
   "cell_type": "code",
   "execution_count": 227,
   "metadata": {},
   "outputs": [
    {
     "name": "stderr",
     "output_type": "stream",
     "text": [
      "/Users/neil/anaconda3/lib/python3.7/site-packages/ipykernel_launcher.py:17: RuntimeWarning: divide by zero encountered in true_divide\n",
      "/Users/neil/anaconda3/lib/python3.7/site-packages/ipykernel_launcher.py:17: RuntimeWarning: invalid value encountered in true_divide\n"
     ]
    }
   ],
   "source": [
    "samfile = pysam.AlignmentFile(ALIGNMENT_FILE)\n",
    "\n",
    "unusual_insert_values = unusual_inserts(samfile)\n",
    "\n",
    "write_to_wigfile(wigfile_header=\"fixedStep chrom=genome start=1 step=1 span=1\", \n",
    "                     wigfile_values=list(map(str, unusual_insert_values)),\n",
    "                     file_name=\"unusual_inserts.wig\")"
   ]
  },
  {
   "cell_type": "code",
   "execution_count": 230,
   "metadata": {},
   "outputs": [],
   "source": [
    "# Unique reads - reads with MAPQ value != 0\n",
    "\n",
    "def unique_reads(samfile):\n",
    "    genome_change = [0] * GENOME_LENGTH\n",
    "    \n",
    "    for read in samfile:\n",
    "        # Check for MAPQ != 0 (unique read) SAM flags: 0x1 and 0x2\n",
    "        if (read.mapping_quality != 0 and read.is_paired and read.is_proper_pair):\n",
    "            genome_change[read.reference_start] += 1\n",
    "            genome_change[read.reference_end] -= 1\n",
    "\n",
    "\n",
    "    current_coverage = 0\n",
    "    sequence_coverage_values = []\n",
    "\n",
    "    for position in range(GENOME_LENGTH):\n",
    "        current_coverage += genome_change[position]\n",
    "        sequence_coverage_values.append(current_coverage)\n",
    "        \n",
    "    return sequence_coverage_values"
   ]
  },
  {
   "cell_type": "code",
   "execution_count": 231,
   "metadata": {},
   "outputs": [],
   "source": [
    "samfile = pysam.AlignmentFile(ALIGNMENT_FILE)\n",
    "\n",
    "unique_reads_coverage = unique_reads(samfile)\n",
    "\n",
    "write_to_wigfile(wigfile_header=\"fixedStep chrom=genome start=1 step=1 span=1\", \n",
    "                     wigfile_values=list(map(str, unique_reads_coverage)),\n",
    "                     file_name=\"unique_reads_coverage.wig\")"
   ]
  },
  {
   "cell_type": "code",
   "execution_count": 232,
   "metadata": {},
   "outputs": [],
   "source": [
    "# Multiple reads (Ambiguous reads) - reads with MAPQ value = 0\n",
    "\n",
    "def multiple_reads(samfile):\n",
    "    genome_change = [0] * GENOME_LENGTH\n",
    "    \n",
    "    for read in samfile:\n",
    "        # Check for MAPQ == 0 (unique read) SAM flags: 0x1 and 0x2\n",
    "        if (read.mapping_quality == 0 and read.is_paired and read.is_proper_pair):\n",
    "            genome_change[read.reference_start] += 1\n",
    "            genome_change[read.reference_end] -= 1\n",
    "\n",
    "\n",
    "    current_coverage = 0\n",
    "    sequence_coverage_values = []\n",
    "\n",
    "    for position in range(GENOME_LENGTH):\n",
    "        current_coverage += genome_change[position]\n",
    "        sequence_coverage_values.append(current_coverage)\n",
    "        \n",
    "    return sequence_coverage_values"
   ]
  },
  {
   "cell_type": "code",
   "execution_count": 233,
   "metadata": {},
   "outputs": [],
   "source": [
    "samfile = pysam.AlignmentFile(ALIGNMENT_FILE)\n",
    "\n",
    "multiple_reads_coverage = multiple_reads(samfile)\n",
    "\n",
    "write_to_wigfile(wigfile_header=\"fixedStep chrom=genome start=1 step=1 span=1\", \n",
    "                     wigfile_values=list(map(str, multiple_reads_coverage)),\n",
    "                     file_name=\"multiple_reads_coverage.wig\")"
   ]
  },
  {
   "cell_type": "code",
   "execution_count": null,
   "metadata": {},
   "outputs": [],
   "source": []
  }
 ],
 "metadata": {
  "kernelspec": {
   "display_name": "Python 3",
   "language": "python",
   "name": "python3"
  },
  "language_info": {
   "codemirror_mode": {
    "name": "ipython",
    "version": 3
   },
   "file_extension": ".py",
   "mimetype": "text/x-python",
   "name": "python",
   "nbconvert_exporter": "python",
   "pygments_lexer": "ipython3",
   "version": "3.7.3"
  }
 },
 "nbformat": 4,
 "nbformat_minor": 2
}
